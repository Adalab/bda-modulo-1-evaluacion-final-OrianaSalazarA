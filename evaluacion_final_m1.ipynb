{
 "cells": [
  {
   "cell_type": "code",
   "execution_count": 325,
   "metadata": {},
   "outputs": [],
   "source": [
    "class TiendaOnline: \n",
    "\n",
    "# podemos entender el constructor como los parámetros de las funciones. Es decir, ¿qué parámetros van a ser los que determinen las carácteristicas de nuestra TiendaOn  line\n",
    "    def __init__(self):\n",
    "        \n",
    "        self.inventario = []\n",
    "        self.clientes = {}\n",
    "        self.ventas_totales = 0.0\n",
    "\n",
    "#1 agregar un producto o actualiza su cantidad si ya existe\n",
    "    def agregar_producto (self, nombre, precio, cantidad): \n",
    "\n",
    "        for producto in self.inventario:\n",
    "            if producto['nombre'] == nombre:\n",
    "                producto['cantidad'] += cantidad\n",
    "                break\n",
    "        else:\n",
    "            nuevo_producto = {'nombre': nombre,'precio': precio,'cantidad': cantidad}\n",
    "            self.inventario.append(nuevo_producto)\n",
    "\n",
    "#2 Muestra el inventario de productos con sus detalles\n",
    "\n",
    "    def ver_inventario(self) :\n",
    "        for producto in self.inventario:\n",
    "            print(producto)\n",
    "\n",
    "#3 Busca un producto en el inventario por nombre y muestra sus detalles\n",
    " \n",
    "    def buscar_producto(self, nombre):\n",
    "        for producto in self.inventario:\n",
    "            if producto['nombre'] == nombre:\n",
    "                print(f'El producto encontrado es:', producto)\n",
    "                break\n",
    "        else:\n",
    "            print('este producto no se encuentra en el inventario')\n",
    "\n",
    "#4 Actualiza el stock de un producto en el inventario \n",
    "            \n",
    "    def actualizar_stock(self, nombre, cantidad):\n",
    "        for producto in self.inventario:\n",
    "            if producto ['nombre'] == nombre: #compara si la parte izquierda es igual a la derecha\n",
    "                producto [ 'cantidad'] = cantidad\n",
    "                break\n",
    "        else :\n",
    "            print('este producto no se encuentra en el inventario')\n",
    "\n",
    "#5 Eliminar producto\n",
    "    def eliminar_producto(self, nombre):\n",
    "        indice = 0\n",
    "        encontrado = False\n",
    "        for producto in self.inventario:\n",
    "            if producto['nombre'] == nombre:\n",
    "                encontrado = True\n",
    "                break\n",
    "            indice += 1\n",
    "        if encontrado:\n",
    "            self.inventario.pop(indice)\n",
    "\n",
    "            print(f'El producto {nombre} se ha eliminado del inventario')\n",
    "            \n",
    "        else:\n",
    "            print(f'El producto {nombre} no se encuentra en el inventario')\n",
    "\n",
    " #6 Calcular el valor total del inventario\n",
    "    def calcular_valor_inventario(self):\n",
    "        valor_total = 0\n",
    "        for producto in self.inventario:\n",
    "            valor_total += producto['precio'] * producto['cantidad']\n",
    "            \n",
    "        print('el valor total de tu inventario es de:', valor_total) \n",
    "\n",
    "#7 buscar producto regex   \n",
    "        # no lo he hecho\n",
    "\n",
    "    #def buscar_producto_regex(self, patron):    \n",
    "\n",
    "\n",
    "#8 Realizar una compra\n",
    "    def realizar_compra(self):\n",
    "        carrito = []\n",
    "        while True:\n",
    "            \n",
    "            self.ver_inventario()\n",
    "            \n",
    "\n",
    "#9 Prosesar pago \n",
    "    def procesar_pago(self):\n",
    "        ingreso_total= int(input('ingrese la cantidad total'))\n",
    "        cantidad_pago= int(input('ingrese la cantidad de pago'))\n",
    "        cambio= cantidad_pago - ingreso_total\n",
    "        try:\n",
    "            if cantidad_pago < ingreso_total:\n",
    "                raise ValueError('falta dinero')\n",
    "            else:\n",
    "             print('el pago ha sido exitoso, su cambio es', cambio)\n",
    "        except ValueError:\n",
    "            print(\"debe ingresar la cantidad correcta\")\n",
    "\n",
    "\n",
    "#10 Agregar cliente\n",
    "    def agregar_clientes(self, nombre, email):\n",
    "\n",
    "        self.nombre = nombre\n",
    "        self.email = email \n",
    "        if nombre in self.clientes:\n",
    "            print(f\"El cliente '{nombre}' ya existe en el registro.\")\n",
    "        else:\n",
    "            self.clientes[nombre] = {\n",
    "                'nombre': nombre,\n",
    "                'email': email,\n",
    "                'compras': []\n",
    "            }\n",
    "            print(f\"Cliente '{nombre}' agregado correctamente.\")\n",
    "\n",
    "            \n",
    "#11 Ver clientes\n",
    "            \n",
    "    def ver_clientes(self):\n",
    "        for cliente in self.clientes:\n",
    "            print(f'estos son los clientes de la tienda', cliente)\n",
    "    \n",
    "\n",
    "#12 Registrar compra\n",
    "            \n",
    "\n",
    "\n",
    "#13 Ver compras\n",
    "#14 Calcular ventase\n",
    "        "
   ]
  },
  {
   "cell_type": "code",
   "execution_count": 326,
   "metadata": {},
   "outputs": [
    {
     "name": "stdout",
     "output_type": "stream",
     "text": [
      "1.1 Ver inventario\n",
      "{'nombre': 'camisa', 'precio': 20, 'cantidad': 40}\n",
      "{'nombre': 'pantalon', 'precio': 30, 'cantidad': 30}\n",
      "{'nombre': 'zapatos', 'precio': 50, 'cantidad': 40}\n",
      "{'nombre': 'falda', 'precio': 25, 'cantidad': 15}\n",
      "1.2 Ver inventario agregando producto repetido\n",
      "{'nombre': 'camisa', 'precio': 20, 'cantidad': 100}\n",
      "{'nombre': 'pantalon', 'precio': 30, 'cantidad': 30}\n",
      "{'nombre': 'zapatos', 'precio': 50, 'cantidad': 40}\n",
      "{'nombre': 'falda', 'precio': 25, 'cantidad': 15}\n"
     ]
    }
   ],
   "source": [
    "inventario= TiendaOnline()\n",
    "\n",
    "inventario.agregar_producto('camisa', 20 , 40)\n",
    "inventario.agregar_producto('pantalon', 30 , 30)\n",
    "inventario.agregar_producto('zapatos', 50 , 40)\n",
    "inventario.agregar_producto('falda', 25 , 15)\n",
    "\n",
    "print('1.1 Ver inventario')\n",
    "inventario.ver_inventario()\n",
    "\n",
    "print('1.2 Ver inventario agregando producto repetido')\n",
    "inventario.agregar_producto('camisa', 20 , 60)\n",
    "inventario.ver_inventario()"
   ]
  },
  {
   "cell_type": "code",
   "execution_count": 327,
   "metadata": {},
   "outputs": [
    {
     "name": "stdout",
     "output_type": "stream",
     "text": [
      "2.1 Buscar producto que existe\n",
      "El producto encontrado es: {'nombre': 'camisa', 'precio': 20, 'cantidad': 100}\n",
      "2.2 Buscar producto que no existe\n",
      "este producto no se encuentra en el inventario\n"
     ]
    }
   ],
   "source": [
    "#Prueba metodo buscar producto\n",
    "print('2.1 Buscar producto que existe')\n",
    "inventario.buscar_producto('camisa')\n",
    "print('2.2 Buscar producto que no existe')\n",
    "inventario.buscar_producto('gorra')"
   ]
  },
  {
   "cell_type": "code",
   "execution_count": 328,
   "metadata": {},
   "outputs": [
    {
     "name": "stdout",
     "output_type": "stream",
     "text": [
      "3.1 Actualizar stock con producto que existe\n",
      "{'nombre': 'camisa', 'precio': 20, 'cantidad': 100}\n",
      "{'nombre': 'pantalon', 'precio': 30, 'cantidad': 30}\n",
      "{'nombre': 'zapatos', 'precio': 50, 'cantidad': 40}\n",
      "{'nombre': 'falda', 'precio': 25, 'cantidad': 1600}\n",
      "3.2 Actualizar stock con producto que no existe\n",
      "este producto no se encuentra en el inventario\n"
     ]
    }
   ],
   "source": [
    "#Prueba metodo actualizar stock\n",
    "print('3.1 Actualizar stock con producto que existe')\n",
    "inventario.actualizar_stock('falda', 1600 )\n",
    "inventario.ver_inventario()\n",
    "print('3.2 Actualizar stock con producto que no existe')\n",
    "inventario.actualizar_stock('gorra', 12)"
   ]
  },
  {
   "cell_type": "code",
   "execution_count": 331,
   "metadata": {},
   "outputs": [
    {
     "name": "stdout",
     "output_type": "stream",
     "text": [
      "El producto zapatos no se encuentra en el inventario\n",
      "El producto gorra no se encuentra en el inventario\n",
      "{'nombre': 'camisa', 'precio': 20, 'cantidad': 100}\n",
      "{'nombre': 'pantalon', 'precio': 30, 'cantidad': 30}\n",
      "{'nombre': 'falda', 'precio': 25, 'cantidad': 1600}\n"
     ]
    }
   ],
   "source": [
    "#Prueba eliminar un producto\n",
    "\n",
    "inventario.eliminar_producto('zapatos')\n",
    "\n",
    "inventario.eliminar_producto('gorra')\n",
    "\n",
    "#llamamos a inventario a ver si se eliminó el producto\n",
    "inventario.ver_inventario()\n",
    "\n",
    "\n",
    "#tengo que revisar el prin del 'producto se ha eliminado' no aparece\n"
   ]
  },
  {
   "cell_type": "code",
   "execution_count": 330,
   "metadata": {},
   "outputs": [
    {
     "name": "stdout",
     "output_type": "stream",
     "text": [
      "el valor total de tu inventario es de: 42900\n"
     ]
    }
   ],
   "source": [
    "#Prueba para calcular el valor total del inventario\n",
    "\n",
    "inventario.calcular_valor_inventario()\n"
   ]
  },
  {
   "cell_type": "code",
   "execution_count": 332,
   "metadata": {},
   "outputs": [
    {
     "name": "stdout",
     "output_type": "stream",
     "text": [
      "Cliente 'oriana salazar' agregado correctamente.\n",
      "Cliente 'rubren briceño' agregado correctamente.\n",
      "El cliente 'oriana salazar' ya existe en el registro.\n"
     ]
    }
   ],
   "source": [
    "#Prueba agregar clientes\n",
    "\n",
    "\n",
    "inventario.agregar_clientes('oriana salazar', 'oriana434@hotmail.com')\n",
    "inventario.agregar_clientes('rubren briceño' ,'rubendario@gmail.com' )\n",
    "\n",
    "inventario.agregar_clientes('oriana salazar', 'oriana434@hotmail.com')"
   ]
  },
  {
   "cell_type": "code",
   "execution_count": 333,
   "metadata": {},
   "outputs": [
    {
     "name": "stdout",
     "output_type": "stream",
     "text": [
      "estos son los clientes de la tienda oriana salazar\n",
      "estos son los clientes de la tienda rubren briceño\n"
     ]
    }
   ],
   "source": [
    "#Prueba de ver clientes\n",
    "\n",
    "inventario.ver_clientes()\n"
   ]
  },
  {
   "cell_type": "code",
   "execution_count": 335,
   "metadata": {},
   "outputs": [
    {
     "name": "stdout",
     "output_type": "stream",
     "text": [
      "el pago ha sido exitoso, su cambio es 50\n"
     ]
    }
   ],
   "source": [
    "inventario.procesar_pago()"
   ]
  }
 ],
 "metadata": {
  "kernelspec": {
   "display_name": "Python 3",
   "language": "python",
   "name": "python3"
  },
  "language_info": {
   "codemirror_mode": {
    "name": "ipython",
    "version": 3
   },
   "file_extension": ".py",
   "mimetype": "text/x-python",
   "name": "python",
   "nbconvert_exporter": "python",
   "pygments_lexer": "ipython3",
   "version": "3.12.2"
  }
 },
 "nbformat": 4,
 "nbformat_minor": 2
}
