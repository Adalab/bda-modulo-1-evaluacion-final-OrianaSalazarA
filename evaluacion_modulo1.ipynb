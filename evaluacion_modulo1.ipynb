{
 "cells": [
  {
   "cell_type": "markdown",
   "metadata": {},
   "source": [
    " 1. `agregar_producto(nombre, precio, cantidad)`: Esta función agrega un \n",
    "producto al inventario o actualiza su cantidad si ya existe. Debe recibir el \n",
    "nombre, precio y cantidad del producto como parámetros.  \n",
    " \n",
    "     - Itera a través del inventario y compara los nombres de los productos \n",
    "con el nombre proporcionado. \n",
    " \n",
    "     - Si el producto ya existe, actualiza la cantidad. \n",
    " \n",
    "     - Si no existe, agrega un nuevo producto al inventario."
   ]
  },
  {
   "cell_type": "code",
   "execution_count": 163,
   "metadata": {},
   "outputs": [],
   "source": [
    "inventario = []\n",
    "clientes = {}\n",
    "ventas_totales = 0.0"
   ]
  },
  {
   "cell_type": "code",
   "execution_count": 164,
   "metadata": {},
   "outputs": [],
   "source": [
    "def agregar_productos(nombre, precio, cantidad):\n",
    "\n",
    "# verifico si el producto existe \n",
    "    producto_existe = False\n",
    "\n",
    "# verifico si el producto está en el inventario\n",
    "    for producto in inventario:\n",
    "        if producto ['nombre'] == nombre:\n",
    "            print ('Este producto ya existe, actualizaremos la cantidad')\n",
    "            producto['cantidad'] += cantidad\n",
    "            producto_existe = True\n",
    "            break\n",
    "\n",
    "# si el producto no existe, agregalo a inventario        \n",
    "    if not producto_existe:\n",
    "        nuevo_productos = {\n",
    "                'nombre' : nombre,\n",
    "                'precio' : precio,\n",
    "                'cantidad' : cantidad\n",
    "            }\n",
    "        inventario.append(nuevo_productos)\n",
    "        print('producto agregado al inventario')\n"
   ]
  },
  {
   "cell_type": "code",
   "execution_count": 165,
   "metadata": {},
   "outputs": [
    {
     "name": "stdout",
     "output_type": "stream",
     "text": [
      "producto agregado al inventario\n",
      "producto agregado al inventario\n"
     ]
    }
   ],
   "source": [
    "# probando codigo\n",
    "agregar_productos('manzana', 1  , 100)\n",
    "agregar_productos('banana', 2 , 500)"
   ]
  },
  {
   "cell_type": "code",
   "execution_count": 166,
   "metadata": {},
   "outputs": [
    {
     "data": {
      "text/plain": [
       "[{'nombre': 'manzana', 'precio': 1, 'cantidad': 100},\n",
       " {'nombre': 'banana', 'precio': 2, 'cantidad': 500}]"
      ]
     },
     "execution_count": 166,
     "metadata": {},
     "output_type": "execute_result"
    }
   ],
   "source": [
    "inventario"
   ]
  },
  {
   "cell_type": "code",
   "execution_count": 167,
   "metadata": {},
   "outputs": [
    {
     "name": "stdout",
     "output_type": "stream",
     "text": [
      "producto agregado al inventario\n"
     ]
    }
   ],
   "source": [
    "agregar_productos('pera', 4, 250)"
   ]
  },
  {
   "cell_type": "code",
   "execution_count": 168,
   "metadata": {},
   "outputs": [
    {
     "data": {
      "text/plain": [
       "[{'nombre': 'manzana', 'precio': 1, 'cantidad': 100},\n",
       " {'nombre': 'banana', 'precio': 2, 'cantidad': 500},\n",
       " {'nombre': 'pera', 'precio': 4, 'cantidad': 250}]"
      ]
     },
     "execution_count": 168,
     "metadata": {},
     "output_type": "execute_result"
    }
   ],
   "source": [
    "inventario"
   ]
  },
  {
   "cell_type": "code",
   "execution_count": 169,
   "metadata": {},
   "outputs": [
    {
     "name": "stdout",
     "output_type": "stream",
     "text": [
      "Este producto ya existe, actualizaremos la cantidad\n"
     ]
    }
   ],
   "source": [
    "agregar_productos('manzana', 1, 100)"
   ]
  },
  {
   "cell_type": "code",
   "execution_count": 170,
   "metadata": {},
   "outputs": [
    {
     "data": {
      "text/plain": [
       "[{'nombre': 'manzana', 'precio': 1, 'cantidad': 200},\n",
       " {'nombre': 'banana', 'precio': 2, 'cantidad': 500},\n",
       " {'nombre': 'pera', 'precio': 4, 'cantidad': 250}]"
      ]
     },
     "execution_count": 170,
     "metadata": {},
     "output_type": "execute_result"
    }
   ],
   "source": [
    "inventario"
   ]
  },
  {
   "cell_type": "markdown",
   "metadata": {},
   "source": [
    "2. `ver_inventario()`: Muestra el inventario de productos con sus detalles.\n",
    " - Utiliza un bucle `for` para recorrer el inventario.\n",
    " - Imprime los detalles (nombre, precio, cantidad) de cada producto.\n",
    " - Debería verse:\n",
    " ```python\n",
    " Nombre: Camisa, Precio: $20, Cantidad: 50\n",
    " Nombre: Pantalón, Precio: $30, Cantidad: 30\n",
    " Nombre: Zapatos, Precio: $50, Cantidad: 40\n",
    " Nombre: Camisa, Precio: $20, Cantidad: 50\n"
   ]
  },
  {
   "cell_type": "code",
   "execution_count": 208,
   "metadata": {},
   "outputs": [],
   "source": [
    "def ver_inventario(inventario):\n",
    "    for producto in inventario:\n",
    "        print(producto)"
   ]
  },
  {
   "cell_type": "code",
   "execution_count": 172,
   "metadata": {},
   "outputs": [
    {
     "data": {
      "text/plain": [
       "[{'nombre': 'manzana', 'precio': 1, 'cantidad': 200},\n",
       " {'nombre': 'banana', 'precio': 2, 'cantidad': 500},\n",
       " {'nombre': 'pera', 'precio': 4, 'cantidad': 250}]"
      ]
     },
     "execution_count": 172,
     "metadata": {},
     "output_type": "execute_result"
    }
   ],
   "source": [
    "inventario"
   ]
  },
  {
   "cell_type": "code",
   "execution_count": 173,
   "metadata": {},
   "outputs": [],
   "source": [
    "inventario2 =[{'camisa', 15, 1000}]\n",
    "            "
   ]
  },
  {
   "cell_type": "code",
   "execution_count": 209,
   "metadata": {},
   "outputs": [
    {
     "name": "stdout",
     "output_type": "stream",
     "text": [
      "{'nombre': 'manzana', 'precio': 1, 'cantidad': 190}\n",
      "{'nombre': 'pera', 'precio': 4, 'cantidad': 250}\n"
     ]
    }
   ],
   "source": [
    "ver_inventario(inventario)"
   ]
  },
  {
   "cell_type": "code",
   "execution_count": 204,
   "metadata": {},
   "outputs": [
    {
     "name": "stdout",
     "output_type": "stream",
     "text": [
      "[{1000, 'camisa', 15}]\n"
     ]
    }
   ],
   "source": [
    "# llamando a la función\n",
    "ver_inventario(inventario2)\n"
   ]
  },
  {
   "cell_type": "markdown",
   "metadata": {},
   "source": [
    " 3. `buscar_producto(nombre)`: Busca un producto en el inventario por nombre\n",
    "y muestra sus detalles si se encuentra. Debe recibir el nombre del producto\n",
    "como parámetro.\n",
    " - Utiliza un bucle `for` para recorrer el inventario.\n",
    " - Compara los nombres de los productos con el nombre proporcionado.\n",
    " - Si se encuentra el producto, imprime sus detalles.\n",
    " - Debe mostrar:\n",
    " ```python\n",
    " Nombre: Camisa, Precio: $20, Cantidad: 40"
   ]
  },
  {
   "cell_type": "code",
   "execution_count": 175,
   "metadata": {},
   "outputs": [
    {
     "data": {
      "text/plain": [
       "[{'nombre': 'manzana', 'precio': 1, 'cantidad': 200},\n",
       " {'nombre': 'banana', 'precio': 2, 'cantidad': 500},\n",
       " {'nombre': 'pera', 'precio': 4, 'cantidad': 250}]"
      ]
     },
     "execution_count": 175,
     "metadata": {},
     "output_type": "execute_result"
    }
   ],
   "source": [
    "inventario"
   ]
  },
  {
   "cell_type": "code",
   "execution_count": 218,
   "metadata": {},
   "outputs": [],
   "source": [
    "\n",
    "def buscar_producto(nombre):\n",
    "\n",
    "# verifico si el producto buscado por nombre, está en el inventario.\n",
    "    for producto in inventario:\n",
    "        # comprobamos el nombre del producto, ignorando mayusculas y minusculas\n",
    "        if producto ['nombre'].lower() == nombre.lower():\n",
    "            print ('aqui tienes el producto solicitado', producto)\n",
    "            return producto\n",
    "# corto mi bucle con un break\n",
    "# si el podricto no se encuentra en el diccionario que me lo indique        \n",
    "    else: \n",
    "        print('Este producto no está registrado en inventario')\n",
    "        return 0\n"
   ]
  },
  {
   "cell_type": "code",
   "execution_count": 219,
   "metadata": {},
   "outputs": [
    {
     "name": "stdout",
     "output_type": "stream",
     "text": [
      "aqui tienes el producto solicitado {'nombre': 'pera', 'precio': 4, 'cantidad': 250}\n",
      "productp {'nombre': 'pera', 'precio': 4, 'cantidad': 250}\n"
     ]
    }
   ],
   "source": [
    "buscar_producto('pera')"
   ]
  },
  {
   "cell_type": "code",
   "execution_count": 178,
   "metadata": {},
   "outputs": [
    {
     "name": "stdout",
     "output_type": "stream",
     "text": [
      "aqui tienes el producto solicitado {'nombre': 'manzana', 'precio': 1, 'cantidad': 200}\n",
      "aqui tienes el producto solicitado {'nombre': 'manzana', 'precio': 1, 'cantidad': 200}\n",
      "aqui tienes el producto solicitado {'nombre': 'manzana', 'precio': 1, 'cantidad': 200}\n"
     ]
    }
   ],
   "source": [
    "# llamamos a la funcion con mayusculas y minusculas\n",
    "\n",
    "buscar_producto('Manzana')\n",
    "buscar_producto('manzana')\n",
    "buscar_producto('mANZANA')"
   ]
  },
  {
   "cell_type": "code",
   "execution_count": 179,
   "metadata": {},
   "outputs": [
    {
     "name": "stdout",
     "output_type": "stream",
     "text": [
      "Este producto no está registrado en inventario\n"
     ]
    }
   ],
   "source": [
    "# llamar a la funcion y verificar que el producto no existe\n",
    "buscar_producto('mango')"
   ]
  },
  {
   "cell_type": "markdown",
   "metadata": {},
   "source": [
    " 4. `actualizar_stock(nombre, cantidad)`: Actualiza el stock de un producto\n",
    "en el inventario. Debe recibir el nombre del producto y la cantidad a\n",
    "agregar o quitar como parámetros.\n",
    " - Utiliza un bucle `for` para recorrer el inventario.\n",
    " - Busca el producto por nombre.\n",
    " - Actualiza la cantidad según la entrada del usuario.\n",
    " - Si el producto no esta en el inventario muestra un mensaje\n",
    "indicándolo. "
   ]
  },
  {
   "cell_type": "code",
   "execution_count": 180,
   "metadata": {},
   "outputs": [
    {
     "data": {
      "text/plain": [
       "[{'nombre': 'manzana', 'precio': 1, 'cantidad': 200},\n",
       " {'nombre': 'banana', 'precio': 2, 'cantidad': 500},\n",
       " {'nombre': 'pera', 'precio': 4, 'cantidad': 250}]"
      ]
     },
     "execution_count": 180,
     "metadata": {},
     "output_type": "execute_result"
    }
   ],
   "source": [
    "inventario"
   ]
  },
  {
   "cell_type": "code",
   "execution_count": 181,
   "metadata": {},
   "outputs": [],
   "source": [
    "def actualizar_stock(nombre, cantidad):\n",
    "    # recorremos el inventario\n",
    "    for producto in inventario:\n",
    "        # comprobamos el nombre del producto, ignorando mayusculas y minusculas\n",
    "        if producto['nombre'].lower() == nombre.lower():\n",
    "            # comprobamos que si el cliente quiere sumar o restar\n",
    "            if cantidad < 0:\n",
    "                if producto['cantidad'] > 0 : # compruebo si existen productos para restar\n",
    "                    print('El producto ya existe, restaremos la cantidad introducida')\n",
    "                    producto['cantidad'] += cantidad\n",
    "            else: \n",
    "                print('El producto ya existe, sumaremos la cantidad introducida')\n",
    "                producto['cantidad'] += cantidad # agregamos la cantidad indicada\n",
    "            break\n",
    "    else:\n",
    "        print('El producto no existe') "
   ]
  },
  {
   "cell_type": "code",
   "execution_count": 182,
   "metadata": {},
   "outputs": [
    {
     "data": {
      "text/plain": [
       "[{'nombre': 'manzana', 'precio': 1, 'cantidad': 200},\n",
       " {'nombre': 'banana', 'precio': 2, 'cantidad': 500},\n",
       " {'nombre': 'pera', 'precio': 4, 'cantidad': 250}]"
      ]
     },
     "execution_count": 182,
     "metadata": {},
     "output_type": "execute_result"
    }
   ],
   "source": [
    "inventario"
   ]
  },
  {
   "cell_type": "code",
   "execution_count": 183,
   "metadata": {},
   "outputs": [
    {
     "name": "stdout",
     "output_type": "stream",
     "text": [
      "El producto ya existe, restaremos la cantidad introducida\n"
     ]
    }
   ],
   "source": [
    "actualizar_stock('manzaNA', -10)\n"
   ]
  },
  {
   "cell_type": "code",
   "execution_count": 184,
   "metadata": {},
   "outputs": [
    {
     "name": "stdout",
     "output_type": "stream",
     "text": [
      "El producto ya existe, sumaremos la cantidad introducida\n"
     ]
    }
   ],
   "source": [
    "actualizar_stock('banana', 10)"
   ]
  },
  {
   "cell_type": "code",
   "execution_count": 185,
   "metadata": {},
   "outputs": [
    {
     "data": {
      "text/plain": [
       "[{'nombre': 'manzana', 'precio': 1, 'cantidad': 190},\n",
       " {'nombre': 'banana', 'precio': 2, 'cantidad': 510},\n",
       " {'nombre': 'pera', 'precio': 4, 'cantidad': 250}]"
      ]
     },
     "execution_count": 185,
     "metadata": {},
     "output_type": "execute_result"
    }
   ],
   "source": [
    "inventario"
   ]
  },
  {
   "cell_type": "markdown",
   "metadata": {},
   "source": [
    "5. `eliminar_producto(nombre)`: Elimina un producto del inventario por\n",
    "nombre. Debe recibir el nombre del producto como parámetro.\n",
    " - Utiliza un bucle `for` para recorrer el inventario.\n",
    " - Busca el producto por nombre.\n",
    " - Elimina el producto del inventario si existe.\n",
    " - Si el producto no esta en el inventario muestra un mensaje\n",
    "indicándolo. "
   ]
  },
  {
   "cell_type": "code",
   "execution_count": 186,
   "metadata": {},
   "outputs": [],
   "source": [
    "def eliminar_producto(nombre):\n",
    "    for producto in inventario: # recorremos el inventario\n",
    "        if producto ['nombre'].lower() == nombre.lower(): #comprobamos el nombre del producto\n",
    "            inventario.remove(producto) # eliminamos el producto del inventario\n",
    "            print('El producto ha sido eliminado')\n",
    "            return\n",
    "    else:\n",
    "        print('El producto que introduce, no existe.')\n"
   ]
  },
  {
   "cell_type": "code",
   "execution_count": 187,
   "metadata": {},
   "outputs": [
    {
     "data": {
      "text/plain": [
       "[{'nombre': 'manzana', 'precio': 1, 'cantidad': 190},\n",
       " {'nombre': 'banana', 'precio': 2, 'cantidad': 510},\n",
       " {'nombre': 'pera', 'precio': 4, 'cantidad': 250}]"
      ]
     },
     "execution_count": 187,
     "metadata": {},
     "output_type": "execute_result"
    }
   ],
   "source": [
    "inventario"
   ]
  },
  {
   "cell_type": "code",
   "execution_count": 188,
   "metadata": {},
   "outputs": [
    {
     "name": "stdout",
     "output_type": "stream",
     "text": [
      "El producto ha sido eliminado\n"
     ]
    }
   ],
   "source": [
    "eliminar_producto('banana')"
   ]
  },
  {
   "cell_type": "code",
   "execution_count": 189,
   "metadata": {},
   "outputs": [
    {
     "data": {
      "text/plain": [
       "[{'nombre': 'manzana', 'precio': 1, 'cantidad': 190},\n",
       " {'nombre': 'pera', 'precio': 4, 'cantidad': 250}]"
      ]
     },
     "execution_count": 189,
     "metadata": {},
     "output_type": "execute_result"
    }
   ],
   "source": [
    "inventario"
   ]
  },
  {
   "cell_type": "code",
   "execution_count": 190,
   "metadata": {},
   "outputs": [
    {
     "name": "stdout",
     "output_type": "stream",
     "text": [
      "El producto que introduce, no existe.\n"
     ]
    }
   ],
   "source": [
    "eliminar_producto('sandia')"
   ]
  },
  {
   "cell_type": "markdown",
   "metadata": {},
   "source": [
    " 6. `calcular_valor_inventario()`: Calcula y muestra el valor total del\n",
    "inventario.\n",
    " - Utiliza un bucle for para calcular el valor total del inventario.\n",
    " - Itera a través del inventario y suma el valor de cada producto\n",
    "(precio x cantidad). Es decir, calcula el valor total del inventario.\n",
    "Ejemplo:\n",
    " ```python\n",
    " # si tenemos 5 camisas que valen 5 euros \n",
    " # y 10 calcetines que valen 1 euro\n",
    " # este método te tiene que devolver: 35 euros\n",
    " valor_camisas = 5 * 5\n",
    " valor_calcetines = 10 * 1\n",
    " valor_camisas + valor_calcetines = 35"
   ]
  },
  {
   "cell_type": "code",
   "execution_count": 191,
   "metadata": {},
   "outputs": [],
   "source": [
    "def calcular_valor_inventario():\n",
    "    valor_total = 0 # inicializamos el valos total en 0\n",
    "    for producto in inventario: # recorremos el inventario\n",
    "            valor_total += producto['precio'] * producto['cantidad'] #calculamos el valos de cada producto (precio*cantidad)\n",
    "            \n",
    "    print('el valor total de tu inventario es de:', valor_total) # imprime el valor total del inventario"
   ]
  },
  {
   "cell_type": "code",
   "execution_count": 192,
   "metadata": {},
   "outputs": [
    {
     "data": {
      "text/plain": [
       "[{'nombre': 'manzana', 'precio': 1, 'cantidad': 190},\n",
       " {'nombre': 'pera', 'precio': 4, 'cantidad': 250}]"
      ]
     },
     "execution_count": 192,
     "metadata": {},
     "output_type": "execute_result"
    }
   ],
   "source": [
    "inventario"
   ]
  },
  {
   "cell_type": "code",
   "execution_count": 193,
   "metadata": {},
   "outputs": [
    {
     "name": "stdout",
     "output_type": "stream",
     "text": [
      "el valor total de tu inventario es de: 1190\n"
     ]
    }
   ],
   "source": [
    "calcular_valor_inventario()"
   ]
  },
  {
   "cell_type": "markdown",
   "metadata": {},
   "source": [
    "7. `realizar_compra()`: Permite a un cliente realizar una compra\n",
    "seleccionando productos del inventario. Debe interactuar con el cliente para\n",
    "seleccionar productos y calcular el costo total de la compra.\n",
    " - Utiliza un bucle `while` para permitir al cliente realizar múltiples\n",
    "compras.\n",
    " - Muestra el inventario y solicita al cliente ingresar el nombre del\n",
    "producto que desea comprar.\n",
    " - Registra los productos seleccionados en un carrito y actualiza el\n",
    "inventario.\n",
    " - Calcula el costo total de la compra."
   ]
  },
  {
   "cell_type": "code",
   "execution_count": 194,
   "metadata": {},
   "outputs": [
    {
     "data": {
      "text/plain": [
       "[{'nombre': 'manzana', 'precio': 1, 'cantidad': 190},\n",
       " {'nombre': 'pera', 'precio': 4, 'cantidad': 250}]"
      ]
     },
     "execution_count": 194,
     "metadata": {},
     "output_type": "execute_result"
    }
   ],
   "source": [
    "inventario"
   ]
  },
  {
   "cell_type": "code",
   "execution_count": 244,
   "metadata": {},
   "outputs": [],
   "source": [
    "\n",
    "def realizar_compra():\n",
    "  carrito = [] # iniciamos con el carrito en 0\n",
    "  costo_total= 0 # iniciamos con el coste total en 0\n",
    "  seguir_comprando = 'si' # hace que entre al bucle al menos una vez\n",
    "  producto_seleccionado = {} # iniciamos con los productos seleccionados con un diccionario vacio\n",
    "\n",
    "  while seguir_comprando.lower() == 'si' : #nuestro bucle seguira en acción siempre que el usuario diga SI \n",
    "    ver_inventario(inventario) # mostramos inventario al cliente\n",
    "    nombre_producto = input('indique el producto que desea comprar') # preguntamos \n",
    "    producto_seleccionado = buscar_producto(nombre_producto) # buscammos nuestro producto\n",
    "    if( producto_seleccionado != 0 and producto_seleccionado['cantidad'] > 0): #verificamos si nuestro producto seleccionado existe y si su cantidad mayor a 0 \n",
    "      actualizar_stock(nombre_producto, -1) #acrualizaremos nuestro stock y restaremos 1\n",
    "      costo_total = costo_total + producto_seleccionado['precio'] # sumamos costo total mas el producto seleccionado\n",
    "      carrito.append(nombre_producto) # agregamos al carrito\n",
    "    else:\n",
    "      print('No tenemos este producto disponible')\n",
    "    seguir_comprando = input('indique si desea seguir comprando, para seguir si, para salir no')\n",
    "  \n",
    "  print('Costo total de su compra:', costo_total) #mostramos al cliente cual ha sido el coste total de su compra\n",
    "  return costo_total\n"
   ]
  },
  {
   "cell_type": "code",
   "execution_count": 223,
   "metadata": {},
   "outputs": [
    {
     "name": "stdout",
     "output_type": "stream",
     "text": [
      "{'nombre': 'manzana', 'precio': 1, 'cantidad': 190}\n",
      "{'nombre': 'pera', 'precio': 4, 'cantidad': 250}\n",
      "aqui tienes el producto solicitado {'nombre': 'pera', 'precio': 4, 'cantidad': 250}\n",
      "El producto ya existe, restaremos la cantidad introducida\n",
      "{'nombre': 'manzana', 'precio': 1, 'cantidad': 190}\n",
      "{'nombre': 'pera', 'precio': 4, 'cantidad': 249}\n",
      "aqui tienes el producto solicitado {'nombre': 'manzana', 'precio': 1, 'cantidad': 190}\n",
      "El producto ya existe, restaremos la cantidad introducida\n",
      "Costo total de su compra: 5\n"
     ]
    }
   ],
   "source": [
    "realizar_compra()"
   ]
  },
  {
   "cell_type": "markdown",
   "metadata": {},
   "source": [
    "8. `procesar_pago()`: Procesa el pago de una compra, calcula el cambio y\n",
    "muestra un mensaje de confirmación.\n",
    " - Utiliza un bloque `try...except` para manejar excepciones.\n",
    " - Solicita al cliente ingresar la cantidad total y la cantidad de pago\n",
    "usando un input.\n",
    " - Calcula el cambio y muestra un mensaje de pago exitoso o un error en\n",
    "caso de monto insuficiente.\n"
   ]
  },
  {
   "cell_type": "code",
   "execution_count": 196,
   "metadata": {},
   "outputs": [],
   "source": [
    "\n",
    "def procesar_pago():\n",
    "\n",
    "    try:\n",
    "        pago_cliente = 0\n",
    "        cantidad_pago = 0\n",
    "        cambio = 0\n",
    "        pago_cliente = float(input('ingrese la cantidad total de su compra')) # pedimos al usuario que indique la cantidad a pagar\n",
    "        cantidad_pago = float(input('ingrese la cantidad de pago')) # le pedimos al cliente que introduzca la cantidad con la que va a realizar pago\n",
    "        cambio = cantidad_pago - pago_cliente # se hace la operacion del monto total y lo que ha pagado, \n",
    "   \n",
    "        if cantidad_pago < pago_cliente: # verificamos si el pago es suficiente\n",
    "            raise ArithmeticError()\n",
    "        else:\n",
    "            print('El pago ha sido exitoso, su cambio es', cambio) # una vez verificado le indicamos si tiene cambio\n",
    "    except ValueError:\n",
    "        print('Introduce una cantidad valida') # detecta error\n",
    "    except ArithmeticError:\n",
    "        print('Falta dinero, el monto a pagar es:', pago_cliente) # detecta error"
   ]
  },
  {
   "cell_type": "code",
   "execution_count": 197,
   "metadata": {},
   "outputs": [
    {
     "name": "stdout",
     "output_type": "stream",
     "text": [
      "El pago ha sido exitoso, su cambio es 0.0\n"
     ]
    }
   ],
   "source": [
    "procesar_pago()"
   ]
  },
  {
   "cell_type": "markdown",
   "metadata": {},
   "source": [
    "9. `agregar_cliente(nombre, email)`: Agrega un nuevo cliente al registro de\n",
    "clientes. Debe recibir el nombre y el correo electrónico del cliente como\n",
    "parámetros.\n",
    " - Agrega un cliente al diccionario de clientes con su nombre y correo\n",
    "electrónico."
   ]
  },
  {
   "cell_type": "code",
   "execution_count": 281,
   "metadata": {},
   "outputs": [],
   "source": [
    "def agregar_clientes(nombre, email):\n",
    "    indice = len(clientes.keys()) + 1\n",
    "    nuevo_cliente = {'nombre': nombre, 'email' : email, 'compra': []}\n",
    "    clientes['cliente' + str(indice)]= nuevo_cliente\n",
    "    print('El cliente ha sido agregado con exito')"
   ]
  },
  {
   "cell_type": "code",
   "execution_count": 286,
   "metadata": {},
   "outputs": [
    {
     "name": "stdout",
     "output_type": "stream",
     "text": [
      "El cliente ha sido agregado con exito\n",
      "El cliente ha sido agregado con exito\n",
      "El cliente ha sido agregado con exito\n"
     ]
    }
   ],
   "source": [
    "clientes = {}\n",
    "agregar_clientes('Oriana', 'oriana@hotmail.com')\n",
    "agregar_clientes('Ruben', 'ruben@hotmail.com')\n",
    "agregar_clientes('Auricel', 'auri@hotmail.com')"
   ]
  },
  {
   "cell_type": "code",
   "execution_count": 287,
   "metadata": {},
   "outputs": [
    {
     "data": {
      "text/plain": [
       "{'cliente1': {'nombre': 'Oriana', 'email': 'oriana@hotmail.com', 'compra': []},\n",
       " 'cliente2': {'nombre': 'Ruben', 'email': 'ruben@hotmail.com', 'compra': []},\n",
       " 'cliente3': {'nombre': 'Auricel', 'email': 'auri@hotmail.com', 'compra': []}}"
      ]
     },
     "execution_count": 287,
     "metadata": {},
     "output_type": "execute_result"
    }
   ],
   "source": [
    "clientes"
   ]
  },
  {
   "cell_type": "markdown",
   "metadata": {},
   "source": [
    "10. `ver_clientes()`: Muestra la lista de clientes registrados con sus\n",
    "nombres y correos electrónicos.\n",
    " - Utiliza un bucle `for` para recorrer la base de datos de clientes.\n",
    " - Imprime los detalles de cada cliente (nombre y correo electrónico)."
   ]
  },
  {
   "cell_type": "code",
   "execution_count": 230,
   "metadata": {},
   "outputs": [],
   "source": [
    "def ver_clientes():\n",
    "    for nuevos_clientes in clientes:\n",
    "        print('Los clientes de la tienda son:', nuevos_clientes)\n",
    "    return clientes\n",
    "    "
   ]
  },
  {
   "cell_type": "code",
   "execution_count": 231,
   "metadata": {},
   "outputs": [
    {
     "name": "stdout",
     "output_type": "stream",
     "text": [
      "Los clientes de la tienda son: cliente1\n",
      "Los clientes de la tienda son: cliente2\n",
      "Los clientes de la tienda son: cliente3\n"
     ]
    },
    {
     "data": {
      "text/plain": [
       "{'cliente1': {'nombre': 'Oriana', 'email': 'oriana@hotmail.com'},\n",
       " 'cliente2': {'nombre': 'Ruben', 'email': 'ruben@hotmail.com'},\n",
       " 'cliente3': {'nombre': 'Auricel', 'email': 'auri@hotmail.com'}}"
      ]
     },
     "execution_count": 231,
     "metadata": {},
     "output_type": "execute_result"
    }
   ],
   "source": [
    "ver_clientes()"
   ]
  },
  {
   "cell_type": "code",
   "execution_count": 225,
   "metadata": {},
   "outputs": [
    {
     "data": {
      "text/plain": [
       "{'cliente1': {'nombre': 'Oriana', 'email': 'oriana@hotmail.com'},\n",
       " 'cliente2': {'nombre': 'Ruben', 'email': 'ruben@hotmail.com'},\n",
       " 'cliente3': {'nombre': 'Auricel', 'email': 'auri@hotmail.com'}}"
      ]
     },
     "execution_count": 225,
     "metadata": {},
     "output_type": "execute_result"
    }
   ],
   "source": [
    "clientes"
   ]
  },
  {
   "cell_type": "markdown",
   "metadata": {},
   "source": [
    " 11. `registrar_compra(nombre_cliente, carrito)`: Registra una compra para\n",
    "un cliente, actualiza las ventas totales y agrega la compra al historial del\n",
    "cliente. Debe recibir el nombre del cliente y el carrito de compras como\n",
    "parámetros.\n",
    " - Busca al cliente en el diccionario de clientes.\n",
    " - Si el cliente no esta en el diccionario de clientes, muestra que no\n",
    "se puede realizar la acción por que el cliente no está en el diccionario. \n",
    " - Calcula el total de la compra y registra la compra, incluyendo los\n",
    "productos y el total.\n",
    " - Ejemplo:\n",
    " ```python\n",
    " carrito_cliente1 = {\"Camisa\": {\"precio\": 20, \"cantidad\": 3}}\n",
    " tienda.registrar_compra(\"Cliente1\", carrito_cliente1)\n"
   ]
  },
  {
   "cell_type": "code",
   "execution_count": 77,
   "metadata": {},
   "outputs": [
    {
     "data": {
      "text/plain": [
       "{'cliente1': {'nombre': 'Oriana', 'email': 'oriana@hotmail.com'},\n",
       " 'cliente2': {'nombre': 'Ruben', 'email': 'ruben@hotmail.com'},\n",
       " 'cliente3': {'nombre': 'Auricel', 'email': 'auri@hotmail.com'}}"
      ]
     },
     "execution_count": 77,
     "metadata": {},
     "output_type": "execute_result"
    }
   ],
   "source": [
    "clientes"
   ]
  },
  {
   "cell_type": "code",
   "execution_count": null,
   "metadata": {},
   "outputs": [],
   "source": []
  },
  {
   "cell_type": "markdown",
   "metadata": {},
   "source": [
    "12. `ver_compras_cliente(nombre_cliente)`: Muestra el historial de compras\n",
    "de un cliente. Debe recibir el nombre del cliente como parámetro.\n",
    " - Busca al cliente en el diccionario de clientes.\n",
    " - Muestra las compras realizadas por el cliente, incluyendo detalles de\n",
    "productos y totales.\n"
   ]
  },
  {
   "cell_type": "code",
   "execution_count": 232,
   "metadata": {},
   "outputs": [],
   "source": [
    "def ver_compras_clientes(nombre_cliente):\n",
    "    if nombre_cliente in clientes:\n",
    "        compras = clientes[nombre_cliente]\n",
    "        print('este el historial de compras de', nombre_cliente)\n",
    "\n",
    " \n"
   ]
  },
  {
   "cell_type": "code",
   "execution_count": 233,
   "metadata": {},
   "outputs": [],
   "source": [
    "ver_compras_clientes('oriana')"
   ]
  },
  {
   "cell_type": "markdown",
   "metadata": {},
   "source": [
    " 13. `calcular_ventas_totales()`: Muestra las ventas totales de la tienda.\n",
    " - Suma los totales de todas las compras realizadas y muestra el total\n",
    "de ventas totales en la tienda."
   ]
  },
  {
   "cell_type": "code",
   "execution_count": 147,
   "metadata": {},
   "outputs": [],
   "source": [
    "historial_de_compra = []\n",
    "\n",
    "def calcular_ventas_totales():\n",
    "    ventas_totales = 0 # inicializamos en 0\n",
    "    for compra in historial_de_compra: # recorremos el historial de compras y sumamos los totales\n",
    "        ventas_totales += compra['total']\n",
    "    print('El total de ventas de la tienda es de: €', ventas_totales) #mostramos las ventas totales"
   ]
  },
  {
   "cell_type": "code",
   "execution_count": 148,
   "metadata": {},
   "outputs": [
    {
     "name": "stdout",
     "output_type": "stream",
     "text": [
      "El total de ventas de la tienda es de: € 0\n"
     ]
    }
   ],
   "source": [
    "calcular_ventas_totales()"
   ]
  },
  {
   "cell_type": "markdown",
   "metadata": {},
   "source": []
  }
 ],
 "metadata": {
  "kernelspec": {
   "display_name": "Python 3",
   "language": "python",
   "name": "python3"
  },
  "language_info": {
   "codemirror_mode": {
    "name": "ipython",
    "version": 3
   },
   "file_extension": ".py",
   "mimetype": "text/x-python",
   "name": "python",
   "nbconvert_exporter": "python",
   "pygments_lexer": "ipython3",
   "version": "3.12.2"
  }
 },
 "nbformat": 4,
 "nbformat_minor": 2
}
