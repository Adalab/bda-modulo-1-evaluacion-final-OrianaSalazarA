{
 "cells": [
  {
   "cell_type": "markdown",
   "metadata": {},
   "source": [
    " 1. `agregar_producto(nombre, precio, cantidad)`: Esta función agrega un \n",
    "producto al inventario o actualiza su cantidad si ya existe. Debe recibir el \n",
    "nombre, precio y cantidad del producto como parámetros.  \n",
    " \n",
    "     - Itera a través del inventario y compara los nombres de los productos \n",
    "con el nombre proporcionado. \n",
    " \n",
    "     - Si el producto ya existe, actualiza la cantidad. \n",
    " \n",
    "     - Si no existe, agrega un nuevo producto al inventario."
   ]
  },
  {
   "cell_type": "code",
   "execution_count": 374,
   "metadata": {},
   "outputs": [],
   "source": [
    "inventario = []\n",
    "clientes = {}\n",
    "ventas_totales = 0.0"
   ]
  },
  {
   "cell_type": "code",
   "execution_count": 375,
   "metadata": {},
   "outputs": [],
   "source": [
    "inventario = []\n",
    "\n",
    "def agregar_productos(nombre, precio, cantidad):\n",
    "\n",
    "# verifico si el producto existe \n",
    "    producto_existe = False\n",
    "\n",
    "# verifico si el producto ya está en el inventario\n",
    "    for producto in inventario:\n",
    "        if producto ['nombre'] == nombre:\n",
    "            print ('Este producto ya existe, actualizaremos la cantidad')\n",
    "            producto['cantidad'] += cantidad\n",
    "            producto_existe = True\n",
    "            break\n",
    "\n",
    "# si el producto no existe, agregalo a inventario        \n",
    "    if not producto_existe:\n",
    "        nuevo_productos = {\n",
    "                'nombre' : nombre,\n",
    "                'precio' : precio,\n",
    "                'cantidad' : cantidad\n",
    "            }\n",
    "        inventario.append(nuevo_productos)\n",
    "        print('producto agregado al inventario')\n"
   ]
  },
  {
   "cell_type": "code",
   "execution_count": 376,
   "metadata": {},
   "outputs": [
    {
     "name": "stdout",
     "output_type": "stream",
     "text": [
      "producto agregado al inventario\n",
      "producto agregado al inventario\n"
     ]
    }
   ],
   "source": [
    "# probando codigo\n",
    "agregar_productos('manzana', 1  , 100)\n",
    "agregar_productos('banana', 2 , 500)"
   ]
  },
  {
   "cell_type": "code",
   "execution_count": 377,
   "metadata": {},
   "outputs": [
    {
     "data": {
      "text/plain": [
       "[{'nombre': 'manzana', 'precio': 1, 'cantidad': 100},\n",
       " {'nombre': 'banana', 'precio': 2, 'cantidad': 500}]"
      ]
     },
     "execution_count": 377,
     "metadata": {},
     "output_type": "execute_result"
    }
   ],
   "source": [
    "inventario"
   ]
  },
  {
   "cell_type": "code",
   "execution_count": 378,
   "metadata": {},
   "outputs": [
    {
     "name": "stdout",
     "output_type": "stream",
     "text": [
      "producto agregado al inventario\n"
     ]
    }
   ],
   "source": [
    "agregar_productos('pera', 4, 250)"
   ]
  },
  {
   "cell_type": "code",
   "execution_count": 379,
   "metadata": {},
   "outputs": [
    {
     "data": {
      "text/plain": [
       "[{'nombre': 'manzana', 'precio': 1, 'cantidad': 100},\n",
       " {'nombre': 'banana', 'precio': 2, 'cantidad': 500},\n",
       " {'nombre': 'pera', 'precio': 4, 'cantidad': 250}]"
      ]
     },
     "execution_count": 379,
     "metadata": {},
     "output_type": "execute_result"
    }
   ],
   "source": [
    "inventario"
   ]
  },
  {
   "cell_type": "code",
   "execution_count": 380,
   "metadata": {},
   "outputs": [
    {
     "name": "stdout",
     "output_type": "stream",
     "text": [
      "Este producto ya existe, actualizaremos la cantidad\n"
     ]
    }
   ],
   "source": [
    "agregar_productos('manzana', 1, 100)"
   ]
  },
  {
   "cell_type": "code",
   "execution_count": 381,
   "metadata": {},
   "outputs": [
    {
     "data": {
      "text/plain": [
       "[{'nombre': 'manzana', 'precio': 1, 'cantidad': 200},\n",
       " {'nombre': 'banana', 'precio': 2, 'cantidad': 500},\n",
       " {'nombre': 'pera', 'precio': 4, 'cantidad': 250}]"
      ]
     },
     "execution_count": 381,
     "metadata": {},
     "output_type": "execute_result"
    }
   ],
   "source": [
    "inventario"
   ]
  },
  {
   "cell_type": "markdown",
   "metadata": {},
   "source": [
    "2. `ver_inventario()`: Muestra el inventario de productos con sus detalles.\n",
    " - Utiliza un bucle `for` para recorrer el inventario.\n",
    " - Imprime los detalles (nombre, precio, cantidad) de cada producto.\n",
    " - Debería verse:\n",
    " ```python\n",
    " Nombre: Camisa, Precio: $20, Cantidad: 50\n",
    " Nombre: Pantalón, Precio: $30, Cantidad: 30\n",
    " Nombre: Zapatos, Precio: $50, Cantidad: 40\n",
    " Nombre: Camisa, Precio: $20, Cantidad: 50\n"
   ]
  },
  {
   "cell_type": "code",
   "execution_count": 382,
   "metadata": {},
   "outputs": [],
   "source": [
    "def ver_inventario(inventario):\n",
    "    for producto in inventario:\n",
    "        print(inventario)"
   ]
  },
  {
   "cell_type": "code",
   "execution_count": 383,
   "metadata": {},
   "outputs": [
    {
     "data": {
      "text/plain": [
       "[{'nombre': 'manzana', 'precio': 1, 'cantidad': 200},\n",
       " {'nombre': 'banana', 'precio': 2, 'cantidad': 500},\n",
       " {'nombre': 'pera', 'precio': 4, 'cantidad': 250}]"
      ]
     },
     "execution_count": 383,
     "metadata": {},
     "output_type": "execute_result"
    }
   ],
   "source": [
    "inventario"
   ]
  },
  {
   "cell_type": "code",
   "execution_count": 384,
   "metadata": {},
   "outputs": [],
   "source": [
    "inventario2 =[{'camisa', 15, 1000}]\n",
    "            "
   ]
  },
  {
   "cell_type": "code",
   "execution_count": 385,
   "metadata": {},
   "outputs": [
    {
     "name": "stdout",
     "output_type": "stream",
     "text": [
      "[{1000, 'camisa', 15}]\n"
     ]
    }
   ],
   "source": [
    "# llamando a la función\n",
    "ver_inventario(inventario2)"
   ]
  },
  {
   "cell_type": "markdown",
   "metadata": {},
   "source": [
    " 3. `buscar_producto(nombre)`: Busca un producto en el inventario por nombre\n",
    "y muestra sus detalles si se encuentra. Debe recibir el nombre del producto\n",
    "como parámetro.\n",
    " - Utiliza un bucle `for` para recorrer el inventario.\n",
    " - Compara los nombres de los productos con el nombre proporcionado.\n",
    " - Si se encuentra el producto, imprime sus detalles.\n",
    " - Debe mostrar:\n",
    " ```python\n",
    " Nombre: Camisa, Precio: $20, Cantidad: 40"
   ]
  },
  {
   "cell_type": "code",
   "execution_count": 386,
   "metadata": {},
   "outputs": [
    {
     "data": {
      "text/plain": [
       "[{'nombre': 'manzana', 'precio': 1, 'cantidad': 200},\n",
       " {'nombre': 'banana', 'precio': 2, 'cantidad': 500},\n",
       " {'nombre': 'pera', 'precio': 4, 'cantidad': 250}]"
      ]
     },
     "execution_count": 386,
     "metadata": {},
     "output_type": "execute_result"
    }
   ],
   "source": [
    "inventario"
   ]
  },
  {
   "cell_type": "code",
   "execution_count": 387,
   "metadata": {},
   "outputs": [],
   "source": [
    "\n",
    "def buscar_producto(nombre):\n",
    "\n",
    "# verifico si el producto buscado por nombre, está en el inventario.\n",
    "    for producto in inventario:\n",
    "        # comprobamos el nombre del producto, ignorando mayusculas y minusculas\n",
    "        if producto ['nombre'].lower() == nombre.lower():\n",
    "            print ('aqui tienes el producto solicitado', producto)\n",
    "            break\n",
    "# corto mi bucle con un break\n",
    "# si el podricto no se encuentra en el diccionario que me lo indique        \n",
    "    else: \n",
    "        print('Este producto no está registrado en inventario')\n"
   ]
  },
  {
   "cell_type": "code",
   "execution_count": 388,
   "metadata": {},
   "outputs": [
    {
     "name": "stdout",
     "output_type": "stream",
     "text": [
      "aqui tienes el producto solicitado {'nombre': 'pera', 'precio': 4, 'cantidad': 250}\n"
     ]
    }
   ],
   "source": [
    "buscar_producto('pera')"
   ]
  },
  {
   "cell_type": "code",
   "execution_count": 390,
   "metadata": {},
   "outputs": [
    {
     "name": "stdout",
     "output_type": "stream",
     "text": [
      "aqui tienes el producto solicitado {'nombre': 'manzana', 'precio': 1, 'cantidad': 200}\n",
      "aqui tienes el producto solicitado {'nombre': 'manzana', 'precio': 1, 'cantidad': 200}\n",
      "aqui tienes el producto solicitado {'nombre': 'manzana', 'precio': 1, 'cantidad': 200}\n"
     ]
    }
   ],
   "source": [
    "# llamamos a la funcion con mayusculas y minusculas\n",
    "\n",
    "buscar_producto('Manzana')\n",
    "buscar_producto('manzana')\n",
    "buscar_producto('mANZANA')"
   ]
  },
  {
   "cell_type": "code",
   "execution_count": 391,
   "metadata": {},
   "outputs": [
    {
     "name": "stdout",
     "output_type": "stream",
     "text": [
      "Este producto no está registrado en inventario\n"
     ]
    }
   ],
   "source": [
    "# llamar a la funcion y verificar que el producto no existe\n",
    "buscar_producto('mango')"
   ]
  },
  {
   "cell_type": "markdown",
   "metadata": {},
   "source": [
    " 4. `actualizar_stock(nombre, cantidad)`: Actualiza el stock de un producto\n",
    "en el inventario. Debe recibir el nombre del producto y la cantidad a\n",
    "agregar o quitar como parámetros.\n",
    " - Utiliza un bucle `for` para recorrer el inventario.\n",
    " - Busca el producto por nombre.\n",
    " - Actualiza la cantidad según la entrada del usuario.\n",
    " - Si el producto no esta en el inventario muestra un mensaje\n",
    "indicándolo. "
   ]
  },
  {
   "cell_type": "code",
   "execution_count": 392,
   "metadata": {},
   "outputs": [
    {
     "data": {
      "text/plain": [
       "[{'nombre': 'manzana', 'precio': 1, 'cantidad': 200},\n",
       " {'nombre': 'banana', 'precio': 2, 'cantidad': 500},\n",
       " {'nombre': 'pera', 'precio': 4, 'cantidad': 250}]"
      ]
     },
     "execution_count": 392,
     "metadata": {},
     "output_type": "execute_result"
    }
   ],
   "source": [
    "inventario"
   ]
  },
  {
   "cell_type": "code",
   "execution_count": 399,
   "metadata": {},
   "outputs": [],
   "source": [
    "def actualizar_stock(nombre, cantidad):\n",
    "    # recorremos el inventario\n",
    "    for producto in inventario:\n",
    "        # comprobamos el nombre del producto, ignorando mayusculas y minusculas\n",
    "        if producto['nombre'].lower() == nombre.lower():\n",
    "            # comprobamos que si el cliente quiere sumar o restar\n",
    "            if cantidad < 0:\n",
    "                if producto['cantidad'] > 0 : # compruebo si existen productos para restar\n",
    "                    print('El producto ya existe, restaremos la cantidad introducida')\n",
    "                    producto['cantidad'] += cantidad\n",
    "            else: \n",
    "                print('El producto ya existe, sumaremos la cantidad introducida')\n",
    "                producto['cantidad'] += cantidad # agregamos la cantidad indicada\n",
    "            break\n",
    "    else:\n",
    "        print('El producto no existe') "
   ]
  },
  {
   "cell_type": "code",
   "execution_count": 400,
   "metadata": {},
   "outputs": [
    {
     "data": {
      "text/plain": [
       "[{'nombre': 'manzana', 'precio': 1, 'cantidad': 190},\n",
       " {'nombre': 'banana', 'precio': 2, 'cantidad': 510},\n",
       " {'nombre': 'pera', 'precio': 4, 'cantidad': 250}]"
      ]
     },
     "execution_count": 400,
     "metadata": {},
     "output_type": "execute_result"
    }
   ],
   "source": [
    "inventario"
   ]
  },
  {
   "cell_type": "code",
   "execution_count": 401,
   "metadata": {},
   "outputs": [
    {
     "name": "stdout",
     "output_type": "stream",
     "text": [
      "El producto ya existe, restaremos la cantidad introducida\n"
     ]
    }
   ],
   "source": [
    "actualizar_stock('manzaNA', -10)\n"
   ]
  },
  {
   "cell_type": "code",
   "execution_count": 397,
   "metadata": {},
   "outputs": [
    {
     "name": "stdout",
     "output_type": "stream",
     "text": [
      "El producto ya existe, sumaremos la cantidad introducida\n"
     ]
    }
   ],
   "source": [
    "actualizar_stock('banana', 10)"
   ]
  },
  {
   "cell_type": "code",
   "execution_count": 402,
   "metadata": {},
   "outputs": [
    {
     "data": {
      "text/plain": [
       "[{'nombre': 'manzana', 'precio': 1, 'cantidad': 180},\n",
       " {'nombre': 'banana', 'precio': 2, 'cantidad': 510},\n",
       " {'nombre': 'pera', 'precio': 4, 'cantidad': 250}]"
      ]
     },
     "execution_count": 402,
     "metadata": {},
     "output_type": "execute_result"
    }
   ],
   "source": [
    "inventario"
   ]
  },
  {
   "cell_type": "markdown",
   "metadata": {},
   "source": [
    "5. `eliminar_producto(nombre)`: Elimina un producto del inventario por\n",
    "nombre. Debe recibir el nombre del producto como parámetro.\n",
    " - Utiliza un bucle `for` para recorrer el inventario.\n",
    " - Busca el producto por nombre.\n",
    " - Elimina el producto del inventario si existe.\n",
    " - Si el producto no esta en el inventario muestra un mensaje\n",
    "indicándolo. "
   ]
  }
 ],
 "metadata": {
  "kernelspec": {
   "display_name": "Python 3",
   "language": "python",
   "name": "python3"
  },
  "language_info": {
   "codemirror_mode": {
    "name": "ipython",
    "version": 3
   },
   "file_extension": ".py",
   "mimetype": "text/x-python",
   "name": "python",
   "nbconvert_exporter": "python",
   "pygments_lexer": "ipython3",
   "version": "3.12.2"
  }
 },
 "nbformat": 4,
 "nbformat_minor": 2
}
